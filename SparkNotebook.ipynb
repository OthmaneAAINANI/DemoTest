{
    "cells": [
        {
            "cell_type": "markdown",
            "metadata": {},
            "source": "#Title"
        },
        {
            "cell_type": "code",
            "execution_count": 1,
            "metadata": {},
            "outputs": [
                {
                    "name": "stdout",
                    "output_type": "stream",
                    "text": "Waiting for a Spark session to start...\nSpark Initialization Done! ApplicationId = app-20201229235544-0000\nKERNEL_ID = 316f1ef3-3879-4441-b66a-77dc917ae782\n"
                },
                {
                    "data": {
                        "text/plain": "[Row(country;description;points;price;province;region_1;taster_name;title;variety;;='US;\"Expressive aromas of smoke; embers and blue fruit are followed by a full-bodied flavorful palate that still shows elegance. The finish lingers.\";88;35.0;Washington;Columbia Valley (WA);Sean P. Sullivan;Damsel 2013 Syrah (Columbia Valley (WA));Syrah;;'),\n Row(country;description;points;price;province;region_1;taster_name;title;variety;;='South Africa;\"Soft mint; spice; cocoa and smoke on the nose lead into like flavors on the palate; creating a smooth; integrated combination of elegant and structured components that are assertive but friendly. The finish is lingering and the wine has aging potential.\";89;30.0;Stellenbosch;;Susan Kostrzewa;Simonsig 2005 Redhill Pinotage (Stellenbosch);Pinotage;;'),\n Row(country;description;points;price;province;region_1;taster_name;title;variety;;='Portugal;\"An elegant; finely rounded wine; with firm tannins as well as fresh acidity. There is a solid; dark structured edge; the damson fruit flavors richly integrated into the texture.\";90;;Douro;;Roger Voss;Quinta de la Rosa 2008 Red (Douro);Portuguese Red;;'),\n Row(country;description;points;price;province;region_1;taster_name;title;variety;;='South Africa;\"Winemaker: Louis Nel. This Cab-Shiraz blend is somewhat closed at present; with muted dark-fruit aromas that suggest blackberry; boysenberry and plum. Mouthfilling; gripping tannins produce a tight; firm structure; while hints of blackcurrant liqueur; bittersweet chocolate and cigar box softly unfold on the close. This should develop and become more pronounced with some time in the cellar; try after 2020.\";91;;Stellenbosch;;Lauren Buzzeo;Louis Nel 2015 Cape Winemakers Guild Rapscallion Cabernet Sauvignon-Shiraz (Stellenbosch);Cabernet Sauvignon-Shiraz;;'),\n Row(country;description;points;price;province;region_1;taster_name;title;variety;;='Portugal;\"Lightly wood aged and spicy; this is a fine reflection of this great grape variety. It is rich and smooth; yet retains mineralitym; a crisp apricot and green plum fruit. Drink this impressive wine from 2017.\";90;;D\u00e3o;;Roger Voss;Seacampo 2014 Casa Am\u00e9rico Branco Reserva Encruzado (D\u00e3o);Encruzado;;')]"
                    },
                    "execution_count": 1,
                    "metadata": {},
                    "output_type": "execute_result"
                }
            ],
            "source": "# The code was removed by Watson Studio for sharing."
        },
        {
            "cell_type": "code",
            "execution_count": null,
            "metadata": {},
            "outputs": [],
            "source": ""
        }
    ],
    "metadata": {
        "kernelspec": {
            "display_name": "Python 3.7 with Spark",
            "language": "python3",
            "name": "python37"
        },
        "language_info": {
            "codemirror_mode": {
                "name": "ipython",
                "version": 3
            },
            "file_extension": ".py",
            "mimetype": "text/x-python",
            "name": "python",
            "nbconvert_exporter": "python",
            "pygments_lexer": "ipython3",
            "version": "3.7.9"
        }
    },
    "nbformat": 4,
    "nbformat_minor": 1
}